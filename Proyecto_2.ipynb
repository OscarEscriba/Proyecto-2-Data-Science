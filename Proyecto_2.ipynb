{
  "nbformat": 4,
  "nbformat_minor": 0,
  "metadata": {
    "colab": {
      "provenance": [],
      "toc_visible": true,
      "authorship_tag": "ABX9TyMT5G1oETWeFen8Hz6Mps0X"
    },
    "kernelspec": {
      "name": "python3",
      "display_name": "Python 3"
    },
    "language_info": {
      "name": "python"
    }
  },
  "cells": [
    {
      "cell_type": "code",
      "execution_count": 2,
      "metadata": {
        "colab": {
          "base_uri": "https://localhost:8080/"
        },
        "id": "D5DDXg2OLCRJ",
        "outputId": "821ae6fa-7a8d-42fc-a0d3-d61b7b609a24"
      },
      "outputs": [
        {
          "output_type": "stream",
          "name": "stdout",
          "text": [
            "Librerías importadas correctamente.\n"
          ]
        }
      ],
      "source": [
        "# Celda 1: Importar librerías\n",
        "import pandas as pd\n",
        "import numpy as np\n",
        "import matplotlib.pyplot as plt\n",
        "import seaborn as sns\n",
        "\n",
        "# Configuraciones para una mejor visualización\n",
        "sns.set_style('whitegrid')\n",
        "%matplotlib inline\n",
        "\n",
        "print(\"Librerías importadas correctamente.\")"
      ]
    },
    {
      "cell_type": "code",
      "source": [
        "# Celda 2: Cargar los datasets\n",
        "try:\n",
        "    df_user_info = pd.read_csv('user_info_format1.csv')\n",
        "    df_log = pd.read_csv('user_log_format1.csv')\n",
        "    df_train = pd.read_csv('train_format1.csv')\n",
        "    df_test = pd.read_csv('test_format1.csv')\n",
        "\n",
        "    print(\"Archivos cargados exitosamente.\")\n",
        "except FileNotFoundError as e:\n",
        "    print(f\"Error: {e}\")\n",
        "    print(\"\\nAsegúrate de que los archivos CSV estén en la misma carpeta que tu notebook.\")"
      ],
      "metadata": {
        "colab": {
          "base_uri": "https://localhost:8080/"
        },
        "id": "cmJzdTCgLUVn",
        "outputId": "b54385ff-c054-419e-d8eb-9fdb0c526d01"
      },
      "execution_count": 3,
      "outputs": [
        {
          "output_type": "stream",
          "name": "stdout",
          "text": [
            "Error: [Errno 2] No such file or directory: 'user_info_format1.csv'\n",
            "\n",
            "Asegúrate de que los archivos CSV estén en la misma carpeta que tu notebook.\n"
          ]
        }
      ]
    },
    {
      "cell_type": "code",
      "source": [
        "# analisis inicial de los datos...\n",
        "# Celda 3: Explorar df_user_info\n",
        "print(\"Primeras 5 filas de df_user_info:\")\n",
        "print(df_user_info.head())\n",
        "\n",
        "print(\"\\n\" + \"=\"*50 + \"\\n\")\n",
        "\n",
        "print(\"Información general de df_user_info:\")\n",
        "df_user_info.info()"
      ],
      "metadata": {
        "colab": {
          "base_uri": "https://localhost:8080/",
          "height": 233
        },
        "id": "d-lYR1GPLirB",
        "outputId": "09760e4c-76c5-4d2e-8158-0319f6a1131c"
      },
      "execution_count": 4,
      "outputs": [
        {
          "output_type": "stream",
          "name": "stdout",
          "text": [
            "Primeras 5 filas de df_user_info:\n"
          ]
        },
        {
          "output_type": "error",
          "ename": "NameError",
          "evalue": "name 'df_user_info' is not defined",
          "traceback": [
            "\u001b[0;31m---------------------------------------------------------------------------\u001b[0m",
            "\u001b[0;31mNameError\u001b[0m                                 Traceback (most recent call last)",
            "\u001b[0;32m/tmp/ipython-input-2473739268.py\u001b[0m in \u001b[0;36m<cell line: 0>\u001b[0;34m()\u001b[0m\n\u001b[1;32m      2\u001b[0m \u001b[0;31m# Celda 3: Explorar df_user_info\u001b[0m\u001b[0;34m\u001b[0m\u001b[0;34m\u001b[0m\u001b[0m\n\u001b[1;32m      3\u001b[0m \u001b[0mprint\u001b[0m\u001b[0;34m(\u001b[0m\u001b[0;34m\"Primeras 5 filas de df_user_info:\"\u001b[0m\u001b[0;34m)\u001b[0m\u001b[0;34m\u001b[0m\u001b[0;34m\u001b[0m\u001b[0m\n\u001b[0;32m----> 4\u001b[0;31m \u001b[0mprint\u001b[0m\u001b[0;34m(\u001b[0m\u001b[0mdf_user_info\u001b[0m\u001b[0;34m.\u001b[0m\u001b[0mhead\u001b[0m\u001b[0;34m(\u001b[0m\u001b[0;34m)\u001b[0m\u001b[0;34m)\u001b[0m\u001b[0;34m\u001b[0m\u001b[0;34m\u001b[0m\u001b[0m\n\u001b[0m\u001b[1;32m      5\u001b[0m \u001b[0;34m\u001b[0m\u001b[0m\n\u001b[1;32m      6\u001b[0m \u001b[0mprint\u001b[0m\u001b[0;34m(\u001b[0m\u001b[0;34m\"\\n\"\u001b[0m \u001b[0;34m+\u001b[0m \u001b[0;34m\"=\"\u001b[0m\u001b[0;34m*\u001b[0m\u001b[0;36m50\u001b[0m \u001b[0;34m+\u001b[0m \u001b[0;34m\"\\n\"\u001b[0m\u001b[0;34m)\u001b[0m\u001b[0;34m\u001b[0m\u001b[0;34m\u001b[0m\u001b[0m\n",
            "\u001b[0;31mNameError\u001b[0m: name 'df_user_info' is not defined"
          ]
        }
      ]
    },
    {
      "cell_type": "code",
      "source": [
        "# analisis del data set mas grande e importante... registro de la actividad de cada uno\n",
        "# Celda 4: Explorar df_log\n",
        "print(\"Primeras 5 filas de df_log:\")\n",
        "print(df_log.head())\n",
        "\n",
        "print(\"\\n\" + \"=\"*50 + \"\\n\")\n",
        "\n",
        "print(\"Información general de df_log:\")\n",
        "df_log.info()"
      ],
      "metadata": {
        "id": "afS0AYafL8dB"
      },
      "execution_count": null,
      "outputs": []
    },
    {
      "cell_type": "code",
      "source": [
        "# explorando los datos de entrenamiento\n",
        "# Celda 5: Explorar df_train\n",
        "print(\"Primeras 5 filas de df_train:\")\n",
        "print(df_train.head())\n",
        "\n",
        "print(\"\\n\" + \"=\"*50 + \"\\n\")\n",
        "\n",
        "print(\"Información general de df_train:\")\n",
        "df_train.info()"
      ],
      "metadata": {
        "id": "pXi28eMDMxs2"
      },
      "execution_count": null,
      "outputs": []
    },
    {
      "cell_type": "code",
      "source": [
        "# explorando los datos de prueba\n",
        "# Celda 6: Explorar df_test\n",
        "print(\"Primeras 5 filas de df_test:\")\n",
        "print(df_test.head())\n",
        "\n",
        "print(\"\\n\" + \"=\"*50 + \"\\n\")\n",
        "\n",
        "print(\"Información general de df_test:\")\n",
        "df_test.info()"
      ],
      "metadata": {
        "id": "EVwkMxE2NLUR"
      },
      "execution_count": null,
      "outputs": []
    },
    {
      "cell_type": "markdown",
      "source": [
        "-----------------------------------\n",
        "## COMENZAMOS CON EL ANALISIS EXPLORATORIO DE LOS DATOS\n",
        "-----------------------------------\n"
      ],
      "metadata": {
        "id": "UNVwnIROODSA"
      }
    },
    {
      "cell_type": "code",
      "source": [
        "# Vamos a analizar la distribucion de la variable label...\n",
        "# recordamos que label es la variable objetivo, porque nos muestra la cantidad de clicks por cliente\n",
        "# Celda 7: Analizar la distribución de la variable 'label' en el set de entrenamiento\n",
        "print(\"Distribución de la variable 'label':\")\n",
        "print(df_train['label'].value_counts())\n",
        "\n",
        "print(\"\\nDistribución porcentual:\")\n",
        "print(df_train['label'].value_counts(normalize=True) * 100)\n",
        "\n",
        "# Visualización\n",
        "plt.figure(figsize=(8, 6))\n",
        "sns.countplot(x='label', data=df_train)\n",
        "plt.title('Distribución de Compradores Recurrentes vs. No Recurrentes', fontsize=16)\n",
        "plt.xlabel('Etiqueta (0: No Recurrente, 1: Recurrente)', fontsize=12)\n",
        "plt.ylabel('Cantidad de Registros', fontsize=12)\n",
        "plt.xticks([0, 1], ['No Recurrente', 'Recurrente'])\n",
        "plt.show()"
      ],
      "metadata": {
        "id": "JltIgLR4OMNM"
      },
      "execution_count": null,
      "outputs": []
    }
  ]
}