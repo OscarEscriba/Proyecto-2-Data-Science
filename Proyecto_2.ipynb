{
  "nbformat": 4,
  "nbformat_minor": 0,
  "metadata": {
    "colab": {
      "provenance": [],
      "authorship_tag": "ABX9TyOEddauJqAcmiPzWsC64OhT",
      "include_colab_link": true
    },
    "kernelspec": {
      "name": "python3",
      "display_name": "Python 3"
    },
    "language_info": {
      "name": "python"
    }
  },
  "cells": [
    {
      "cell_type": "markdown",
      "metadata": {
        "id": "view-in-github",
        "colab_type": "text"
      },
      "source": [
        "<a href=\"https://colab.research.google.com/github/OscarEscriba/Proyecto-2-Data-Science/blob/main/Proyecto_2.ipynb\" target=\"_parent\"><img src=\"https://colab.research.google.com/assets/colab-badge.svg\" alt=\"Open In Colab\"/></a>"
      ]
    },
    {
      "cell_type": "code",
      "execution_count": 1,
      "metadata": {
        "colab": {
          "base_uri": "https://localhost:8080/"
        },
        "id": "D5DDXg2OLCRJ",
        "outputId": "b6603184-74ff-4b61-82b3-06a643a4145a"
      },
      "outputs": [
        {
          "output_type": "stream",
          "name": "stdout",
          "text": [
            "Librerías importadas correctamente.\n"
          ]
        }
      ],
      "source": [
        "# Celda 1: Importar librerías\n",
        "import pandas as pd\n",
        "import numpy as np\n",
        "import matplotlib.pyplot as plt\n",
        "import seaborn as sns\n",
        "\n",
        "# Configuraciones para una mejor visualización\n",
        "sns.set_style('whitegrid')\n",
        "%matplotlib inline\n",
        "\n",
        "print(\"Librerías importadas correctamente.\")"
      ]
    },
    {
      "cell_type": "code",
      "source": [
        "# Celda 2: Cargar los datasets\n",
        "try:\n",
        "    df_user_info = pd.read_csv('user_info_format1.csv')\n",
        "    df_log = pd.read_csv('user_log_format1.csv')\n",
        "    df_train = pd.read_csv('train_format1.csv')\n",
        "    df_test = pd.read_csv('test_format1.csv')\n",
        "\n",
        "    print(\"Archivos cargados exitosamente.\")\n",
        "except FileNotFoundError as e:\n",
        "    print(f\"Error: {e}\")\n",
        "    print(\"\\nAsegúrate de que los archivos CSV estén en la misma carpeta que tu notebook.\")"
      ],
      "metadata": {
        "colab": {
          "base_uri": "https://localhost:8080/"
        },
        "id": "cmJzdTCgLUVn",
        "outputId": "930258b0-ca44-4282-8946-fef94f88382c"
      },
      "execution_count": 2,
      "outputs": [
        {
          "output_type": "stream",
          "name": "stdout",
          "text": [
            "Archivos cargados exitosamente.\n"
          ]
        }
      ]
    },
    {
      "cell_type": "code",
      "source": [
        "# analisis inicial de los datos...\n",
        "# Celda 3: Explorar df_user_info\n",
        "print(\"Primeras 5 filas de df_user_info:\")\n",
        "print(df_user_info.head())\n",
        "\n",
        "print(\"\\n\" + \"=\"*50 + \"\\n\")\n",
        "\n",
        "print(\"Información general de df_user_info:\")\n",
        "df_user_info.info()"
      ],
      "metadata": {
        "colab": {
          "base_uri": "https://localhost:8080/"
        },
        "id": "d-lYR1GPLirB",
        "outputId": "4b256991-aecf-4aae-c9ff-f0ac1e725edb"
      },
      "execution_count": 3,
      "outputs": [
        {
          "output_type": "stream",
          "name": "stdout",
          "text": [
            "Primeras 5 filas de df_user_info:\n",
            "   user_id  age_range  gender\n",
            "0   376517        6.0     1.0\n",
            "1   234512        5.0     0.0\n",
            "2   344532        5.0     0.0\n",
            "3   186135        5.0     0.0\n",
            "4    30230        5.0     0.0\n",
            "\n",
            "==================================================\n",
            "\n",
            "Información general de df_user_info:\n",
            "<class 'pandas.core.frame.DataFrame'>\n",
            "RangeIndex: 424170 entries, 0 to 424169\n",
            "Data columns (total 3 columns):\n",
            " #   Column     Non-Null Count   Dtype  \n",
            "---  ------     --------------   -----  \n",
            " 0   user_id    424170 non-null  int64  \n",
            " 1   age_range  421953 non-null  float64\n",
            " 2   gender     417734 non-null  float64\n",
            "dtypes: float64(2), int64(1)\n",
            "memory usage: 9.7 MB\n"
          ]
        }
      ]
    },
    {
      "cell_type": "code",
      "source": [
        "# analisis del data set mas grande e importante... registro de la actividad de cada uno\n",
        "# Celda 4: Explorar df_log\n",
        "print(\"Primeras 5 filas de df_log:\")\n",
        "print(df_log.head())\n",
        "\n",
        "print(\"\\n\" + \"=\"*50 + \"\\n\")\n",
        "\n",
        "print(\"Información general de df_log:\")\n",
        "df_log.info()"
      ],
      "metadata": {
        "colab": {
          "base_uri": "https://localhost:8080/"
        },
        "id": "afS0AYafL8dB",
        "outputId": "1ab6090c-6e54-4617-cc05-7d937dbc6baf"
      },
      "execution_count": 4,
      "outputs": [
        {
          "output_type": "stream",
          "name": "stdout",
          "text": [
            "Primeras 5 filas de df_log:\n",
            "   user_id  item_id  cat_id  seller_id  brand_id  time_stamp  action_type\n",
            "0   328862   323294   833.0     2882.0    2661.0       829.0          0.0\n",
            "1   328862   844400  1271.0     2882.0    2661.0       829.0          0.0\n",
            "2   328862   575153  1271.0     2882.0    2661.0       829.0          0.0\n",
            "3   328862   996875  1271.0     2882.0    2661.0       829.0          0.0\n",
            "4   328862  1086186  1271.0     1253.0    1049.0       829.0          0.0\n",
            "\n",
            "==================================================\n",
            "\n",
            "Información general de df_log:\n",
            "<class 'pandas.core.frame.DataFrame'>\n",
            "RangeIndex: 3286217 entries, 0 to 3286216\n",
            "Data columns (total 7 columns):\n",
            " #   Column       Dtype  \n",
            "---  ------       -----  \n",
            " 0   user_id      int64  \n",
            " 1   item_id      int64  \n",
            " 2   cat_id       float64\n",
            " 3   seller_id    float64\n",
            " 4   brand_id     float64\n",
            " 5   time_stamp   float64\n",
            " 6   action_type  float64\n",
            "dtypes: float64(5), int64(2)\n",
            "memory usage: 175.5 MB\n"
          ]
        }
      ]
    },
    {
      "cell_type": "code",
      "source": [
        "# explorando los datos de entrenamiento\n",
        "# Celda 5: Explorar df_train\n",
        "print(\"Primeras 5 filas de df_train:\")\n",
        "print(df_train.head())\n",
        "\n",
        "print(\"\\n\" + \"=\"*50 + \"\\n\")\n",
        "\n",
        "print(\"Información general de df_train:\")\n",
        "df_train.info()"
      ],
      "metadata": {
        "colab": {
          "base_uri": "https://localhost:8080/"
        },
        "id": "pXi28eMDMxs2",
        "outputId": "1a38df0d-9bac-4dab-cb7d-5d68727719cd"
      },
      "execution_count": 5,
      "outputs": [
        {
          "output_type": "stream",
          "name": "stdout",
          "text": [
            "Primeras 5 filas de df_train:\n",
            "   user_id  merchant_id  label\n",
            "0    34176         3906      0\n",
            "1    34176          121      0\n",
            "2    34176         4356      1\n",
            "3    34176         2217      0\n",
            "4   230784         4818      0\n",
            "\n",
            "==================================================\n",
            "\n",
            "Información general de df_train:\n",
            "<class 'pandas.core.frame.DataFrame'>\n",
            "RangeIndex: 260864 entries, 0 to 260863\n",
            "Data columns (total 3 columns):\n",
            " #   Column       Non-Null Count   Dtype\n",
            "---  ------       --------------   -----\n",
            " 0   user_id      260864 non-null  int64\n",
            " 1   merchant_id  260864 non-null  int64\n",
            " 2   label        260864 non-null  int64\n",
            "dtypes: int64(3)\n",
            "memory usage: 6.0 MB\n"
          ]
        }
      ]
    },
    {
      "cell_type": "code",
      "source": [
        "# explorando los datos de prueba\n",
        "# Celda 6: Explorar df_test\n",
        "print(\"Primeras 5 filas de df_test:\")\n",
        "print(df_test.head())\n",
        "\n",
        "print(\"\\n\" + \"=\"*50 + \"\\n\")\n",
        "\n",
        "print(\"Información general de df_test:\")\n",
        "df_test.info()"
      ],
      "metadata": {
        "colab": {
          "base_uri": "https://localhost:8080/"
        },
        "id": "EVwkMxE2NLUR",
        "outputId": "f99cb4d5-8890-4d3b-ce7e-b6664dc58f39"
      },
      "execution_count": 6,
      "outputs": [
        {
          "output_type": "stream",
          "name": "stdout",
          "text": [
            "Primeras 5 filas de df_test:\n",
            "   user_id  merchant_id  prob\n",
            "0   163968         4605   NaN\n",
            "1   360576         1581   NaN\n",
            "2    98688         1964   NaN\n",
            "3    98688         3645   NaN\n",
            "4   295296         3361   NaN\n",
            "\n",
            "==================================================\n",
            "\n",
            "Información general de df_test:\n",
            "<class 'pandas.core.frame.DataFrame'>\n",
            "RangeIndex: 261477 entries, 0 to 261476\n",
            "Data columns (total 3 columns):\n",
            " #   Column       Non-Null Count   Dtype  \n",
            "---  ------       --------------   -----  \n",
            " 0   user_id      261477 non-null  int64  \n",
            " 1   merchant_id  261477 non-null  int64  \n",
            " 2   prob         0 non-null       float64\n",
            "dtypes: float64(1), int64(2)\n",
            "memory usage: 6.0 MB\n"
          ]
        }
      ]
    }
  ]
}